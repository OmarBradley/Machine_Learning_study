{
 "cells": [
  {
   "cell_type": "code",
   "execution_count": 87,
   "metadata": {
    "collapsed": true
   },
   "outputs": [],
   "source": [
    "# https://github.com/e9t/nsmc"
   ]
  },
  {
   "cell_type": "code",
   "execution_count": 88,
   "metadata": {
    "collapsed": true
   },
   "outputs": [],
   "source": [
    "import io\n",
    "import numpy\n",
    "import matplotlib.pyplot as plt\n",
    "import numpy as np\n",
    "import re\n",
    "import math\n",
    "import pandas as pd\n",
    "%matplotlib inline"
   ]
  },
  {
   "cell_type": "code",
   "execution_count": 89,
   "metadata": {
    "collapsed": true
   },
   "outputs": [],
   "source": [
    "special_chars_remover = re.compile(\"[^\\w'|_]\")\n",
    "\n",
    "def remove_special_characters(sentence):\n",
    "    return special_chars_remover.sub(' ', sentence)"
   ]
  },
  {
   "cell_type": "code",
   "execution_count": 90,
   "metadata": {
    "collapsed": true
   },
   "outputs": [],
   "source": [
    "def read_data():\n",
    "    data = pd.read_csv('ratings_train.txt', sep='\\t', encoding='utf-8')\n",
    "    data_positive = data[data[\"label\"] == 0]\n",
    "    data_negative = data[data[\"label\"] == 1]\n",
    "    \n",
    "    training_sentences = [data_positive[\"document\"], data_negative[\"document\"]]\n",
    "    return [' '.join(map(str,training_sentences[0])), ' '.join(map(str,training_sentences[1]))]"
   ]
  },
  {
   "cell_type": "code",
   "execution_count": 91,
   "metadata": {},
   "outputs": [],
   "source": [
    "def create_BOW(sentence):\n",
    "    bow = {}\n",
    "    splitted_sentence = remove_special_characters(sentence.lower()).split()\n",
    "    tokens = [token for token in splitted_sentence if len(token) >= 1]\n",
    "    \n",
    "    for token in tokens:\n",
    "        if token not in bow:\n",
    "            bow[token] = 1\n",
    "        else:\n",
    "            bow[token] += 1\n",
    "    return bow"
   ]
  },
  {
   "cell_type": "code",
   "execution_count": 92,
   "metadata": {
    "collapsed": true
   },
   "outputs": [],
   "source": [
    "def calculate_doc_prob(training_sentence, testing_sentence, alpha):\n",
    "    logprob = 0\n",
    "\n",
    "    training_model = create_BOW(training_sentence)\n",
    "    testing_model = create_BOW(testing_sentence)\n",
    "    \n",
    "    total_training_model_value = sum(training_model.values())\n",
    "    \n",
    "    for key in testing_model:\n",
    "        if key in training_model:\n",
    "            logprob += math.log((training_model[key] / total_training_model_value) ** testing_model[key])\n",
    "        else:\n",
    "            logprob += math.log(alpha / total_training_model_value)        \n",
    "    return logprob"
   ]
  },
  {
   "cell_type": "code",
   "execution_count": 93,
   "metadata": {
    "collapsed": true
   },
   "outputs": [],
   "source": [
    "def normalize_log_prob(prob1, prob2):\n",
    "    maxprob = max(prob1, prob2)\n",
    "\n",
    "    prob1 -= maxprob\n",
    "    prob2 -= maxprob\n",
    "    prob1 = math.exp(prob1)\n",
    "    prob2 = math.exp(prob2)\n",
    "\n",
    "    normalize_constant = 1.0 / float(prob1 + prob2)\n",
    "    prob1 *= normalize_constant\n",
    "    prob2 *= normalize_constant\n",
    "\n",
    "    return (prob1, prob2)"
   ]
  },
  {
   "cell_type": "code",
   "execution_count": 94,
   "metadata": {
    "collapsed": true
   },
   "outputs": [],
   "source": [
    "def naive_bayes(training_sentences, testing_sentence):\n",
    "    log_prob_negative = calculate_doc_prob(training_sentences[0], testing_sentence, 0.1) + math.log(0.5)\n",
    "    log_prob_positive = calculate_doc_prob(training_sentences[1], testing_sentence, 0.1) + math.log(0.5)\n",
    "    prob_pair = normalize_log_prob(log_prob_negative, log_prob_positive)\n",
    "    \n",
    "    return prob_pair"
   ]
  },
  {
   "cell_type": "code",
   "execution_count": 95,
   "metadata": {
    "collapsed": true
   },
   "outputs": [],
   "source": [
    "def visualize_boxplot(title, values, labels):\n",
    "    width = .35\n",
    "\n",
    "    print(title)\n",
    "    \n",
    "    fig, ax = plt.subplots()\n",
    "    ind = numpy.arange(len(values))\n",
    "    rects = ax.bar(ind, values, width)\n",
    "    ax.bar(ind, values, width=width)\n",
    "    ax.set_xticks(ind + width/2)\n",
    "    ax.set_xticklabels(labels)\n",
    "\n",
    "    def autolabel(rects):\n",
    "        # attach some text labels\n",
    "        for rect in rects:\n",
    "            height = rect.get_height()\n",
    "            ax.text(rect.get_x()+rect.get_width()/2., height + 0.01, '%.2lf%%' % (height * 100), ha='center', va='bottom')\n",
    "\n",
    "    autolabel(rects)\n",
    "\n",
    "    plt.show()"
   ]
  },
  {
   "cell_type": "code",
   "execution_count": 96,
   "metadata": {},
   "outputs": [
    {
     "name": "stdout",
     "output_type": "stream",
     "text": [
      "어설픈 연기들로 몰입이 전혀 안되네요\n"
     ]
    },
    {
     "data": {
      "image/png": "[encoded data removed]",
      "text/plain": [
       "<matplotlib.figure.Figure at 0x1184ffcf8>"
      ]
     },
     "metadata": {},
     "output_type": "display_data"
    }
   ],
   "source": [
    "training_sentences = read_data()\n",
    "testing_sentence = \"어설픈 연기들로 몰입이 전혀 안되네요\"\n",
    "prob_pair = naive_bayes(training_sentences, testing_sentence)\n",
    "\n",
    "plot_title = testing_sentence\n",
    "if len(plot_title) > 50: plot_title = plot_title[:50] + \"...\"\n",
    "visualize_boxplot(plot_title,\n",
    "              list(prob_pair),\n",
    "              ['Negative', 'Positive'])"
   ]
  },
  {
   "cell_type": "code",
   "execution_count": null,
   "metadata": {
    "collapsed": true
   },
   "outputs": [],
   "source": []
  },
  {
   "cell_type": "code",
   "execution_count": null,
   "metadata": {
    "collapsed": true
   },
   "outputs": [],
   "source": []
  }
 ],
 "metadata": {
  "kernelspec": {
   "display_name": "Python 3",
   "language": "python",
   "name": "python3"
  },
  "language_info": {
   "codemirror_mode": {
    "name": "ipython",
    "version": 3
   },
   "file_extension": ".py",
   "mimetype": "text/x-python",
   "name": "python",
   "nbconvert_exporter": "python",
   "pygments_lexer": "ipython3",
   "version": "3.6.1"
  }
 },
 "nbformat": 4,
 "nbformat_minor": 2
}
